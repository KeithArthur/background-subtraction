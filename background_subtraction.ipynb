{
 "cells": [
  {
   "cell_type": "markdown",
   "metadata": {},
   "source": [
    "# Background Subtraction as an Optimization Problem\n",
    "\n",
    "## Running This Notebook\n",
    "\n",
    "### Setup\n",
    "* Clone the [git repo](https://github.com/dmh43/background-subtraction) to a local directory.\n",
    "* Update the `project_path` variable name below to the root of the project.\n",
    "* Download video data from [here](http://www.ee.oulu.fi/~xliu/research/lsd/LSD.html).\n",
    "* Install SPAMS from: [here](https://github.com/conda-forge/python-spams-feedstock) (if you use anaconda) or [here](http://spams-devel.gforge.inria.fr/downloads.html).\n",
    "* Run `pip install -r requirements.txt` in the root directory of the project if you do not have all the dependecies.\n",
    "\n",
    "### Getting Results\n",
    "* Setting `video_name` with the name of the video to read will allow you to process any set of video frames from the above download link.\n",
    "* Otherwise, the process will be run on the `WaterSurface` example\n",
    "* The results will be written as a collection of images into the `background` and `foreground` folders, respectively.\n",
    "* A gif of the background and foreground will also be created.\n",
    "\n",
    "## Approach\n",
    "This notebook investigates the formulation of background subtraction as a Robust PCA problem. Following the framework described in [1, 2], we implement two passes on the input video:\n",
    "1. Identify candidate groups of pixels that belong to the foreground in each frame.\n",
    "2. Remove pixels of low motion salience from the result of the first pass.\n",
    "\n",
    "For the first pass, we reproduce the results from [1, 2, and 3] which formulate the problem as follows:\n",
    "1. Solves the typical RPCA problem, using the L-1 norm.\n",
    "2. Solves a variant of the RPCA problem using a structured-sparsity inducing norm.\n",
    "3. Solves the non-convex formulation of the RPCA problem (does not use the nuclear norm as a convex surrogate for the rank)."
   ]
  },
  {
   "cell_type": "code",
   "execution_count": 21,
   "metadata": {
    "collapsed": true
   },
   "outputs": [],
   "source": [
    "from IPython.display import HTML, display\n",
    "def display_anim(name):\n",
    "    IMG_TAG = \"\"\"<img src=\"data:image/gif;base64,{0}\">\"\"\"\n",
    "    data = open(name, \"rb\").read()\n",
    "    data = data.encode(\"base64\")\n",
    "    return IMG_TAG.format(data)"
   ]
  },
  {
   "cell_type": "code",
   "execution_count": 23,
   "metadata": {
    "collapsed": false
   },
   "outputs": [
    {
     "data": {
      "text/html": [
       "<img src=\"data:image/gif;base64,R0lGODdhoACAAIAAAAAAAP///ywAAAAAoACAAEAI/wABCBxIsKDBgwgTKlzIsKHDhxAjSpxIsaLF\n",
       "ixgzatwoMYDHjx4BiBxJsqTJkyhTqlzJsqXLlzBfBphJs2YAADhz6tzJs6fPn0CDCh1KtKjRnwGS\n",
       "Kl0KoKnTp1CjSp1KtarVq1izat1aNYDXr2DDAhhLtqzZs2jTql3Ltq3bt3Djqg1At67duwEA6N3L\n",
       "t6/fv4ADCx5MuLDhw4gFB1jMuHFjAJAjS55MubLly5gza97MubNnygFCix5NejSA06hTq17NurXr\n",
       "17Bjy55Nu/brALhz694NoLfv38CDCx9OvLjx48iTK19OPIDz59CjPwdAvbr169iza9/Ovbv37+DD\n",
       "i/+/HqC8+fPo0QNYz769+/fw48ufT7++/fv487cPwD8AAIABAgAgCCDAQYQIASxk2NDhQ4gRJU6k\n",
       "WNHiRYwZHwYIACAAAJAhQQYAACBAAAAAAgBg2dLlS5gxZc6kWdPmTZw5dQII0NPnT6BBhQIgWtTo\n",
       "UaRJlS5l2tTpU6hRpU6lWtXqVaxZtW7l2tXrV7BhxY4lqzXAWbRpAwBg29btW7hx5c6lW9fuXbx5\n",
       "9doN0Nfv3wAABA8mXNjwYcSJFS9m3NjxY8iIA0ymXHkyAMyZNW/m3NnzZ9ChRY8mXdo06ACpVa9m\n",
       "DcD1a9ixZc+mXdv2bdy5de/mXTvAb+DBhQMHUNz/+HHkyZUvZ97c+XPo0aVPTx7A+nXs2QMA4N7d\n",
       "+3fw4cWPJ1/e/Hn06dWTD9De/Xv4AQDMp1/f/n38+fXv59/fP0AAAgcSLGjwIMKECQMwbOjwIUMA\n",
       "EidSrGjxIsaMGjdy7OjxI8iLAUaSLGmyJICUKleybOnyJcyYMmfSrGnz5soAOnfuBBDgJ9CgAQAQ\n",
       "LWr0KNKkSpcyber0KdSoUo0GAGD1KlYAAbZyBeD1K9iwYseSLWv2LNq0ateyNRsAANy4cAPQrQvg\n",
       "Lt68evfy7ev3L+DAggcTLmz4MOLEihczbuz4MeTIkidTrmz5MubMmjdz7uz5M+jQokc7DmD6NOoA\n",
       "/wBWs27t+jXs2LJn065t+zbu3LUD8O7tmzeA4MKHEy9u/Djy5MqXM2/u/DnzANKnUwdg/Tr27Nq3\n",
       "c+/u/Tv48OLHkwcf4Dx69ADWs2/v/j38+PLn069v/z7+/PUD8O/vH2CAAAAIFjR4EGFChQsZNnT4\n",
       "EGJEiQwDVLR40SIAjRs5dvT4EWRIkSNJljR5EqXIACtZtnQJAGZMmTNp1rR5E2dOnTt59vR5M0BQ\n",
       "oUOJBgBwFGlSpUuZNnX6FGpUqVOpVm0aAGtWrVuxAvD6FWxYsWPJljV7Fm1atWvZkg3wFm5cuQEA\n",
       "1LV7F29evXv59vX7F3BgwYP3BjB8GHFiAIsZN/92/BhyZMmTKVe2fBlz5sgBOHf2/DkAANGjSZc2\n",
       "fRp1atWrWbd2/Rp26QAAAtS2fRu3bQC7eff2/Rt4cOHDiRc3fhx58uEBmDd3/hxAdOnTqVe3fh17\n",
       "du3buXf3/h17APHjyZcXDwB9evXr2bd3/x5+fPnz6de33z5Afv37+ecHABCAwIEECxo8iDChwoUM\n",
       "Gzp8CNFggIkUK1qkCCCjxo0cO3r8CDKkyJEkS5o8yTGAypUsW7YEADOmzJk0a9q8iTOnzp08e/qU\n",
       "GSCo0KFEAwAIgDQAgKVMmzp9CjWq1KlUq1q9ijUr0wBcu3IFADaA2LFjAZg9izat2rVs27p9Czf/\n",
       "rty5dNsGCAAgb94AfPsGAAA4sODBhAsbPow4seLFjBs7FhwAQAAAAQBYvow5AAAAAQIA+Aw6tOjR\n",
       "pEubPo06terVrFuXDgAbgOzZsgPYvh0AgO7dvHv7/g08uPDhxIsbP45cd4DlAQAEeB4AgPTpAAJY\n",
       "tw4gu/bt3Lt7/w4+vPjx5MubPx8AgPoA7Nu3BwAffoD58wHYv48/v/79/Pv7BwhA4ECCBQ0eRJhQ\n",
       "4UKGDR0+hBhR4kSKFS1exJhR40aOHT1+BBlS5EiSJU2eRJlS5UqWLV2+hBlT5kyaNW3exJlTZQCe\n",
       "AQD8BBpU6FCiRY0eRZpU6VKmTZ0GgBpVKgCq/1WtXsWaVetWrl29fgUbVizYAGXNng0AQO1atm3d\n",
       "voUbV+5cunXt3sVLN8Bevn33AgAcWPBgwoUNH0acWPFixo0dLw4QWfJkAJUtX8acWfNmzp09fwYd\n",
       "WvTo0AFMn0YdAMBq1q1dv4YdW/Zs2rVt38ad23YA3r19AwAeXPhw4sWNH0eeXPly5s2dLw8QXfp0\n",
       "ANWtX8eeXft27t29fwcfXvz47wHMnz8PQP169u3dv4cfX/58+vXt38dfP8B+/v0DAAQgcCDBggYP\n",
       "IkyocCHDhg4fQmQYYCLFihMBYMyocSPHjh4/ggwpciTJkiZDBkipcqVKAC5fwowpcybNmjZv4v/M\n",
       "qXMnz5sBfgINGhQA0aJGjyJNqnQp06ZOn0KNKnVpgKpWr2IFoHUr165ev4INK3Ys2bJmz6ING2At\n",
       "27ZuAcCNK3cu3bp27+LNq3cv375+7wYILHgw4QAADiNOrHgx48aOH0OOLHky5cqNA2DOrHlzAACe\n",
       "P4MOLXo06dKmT6NOrXo1a9IBXsOOLfs1gNq2b+POrXs3796+fwMPLny47gDGjyNPbhwA8+bOn0OP\n",
       "Ln069erWr2PPrl16gO7ev4P3DmA8+fLmz6NPr349+/bu38OPjz4A/fr27QPIr38///7+AQIQOJBg\n",
       "QYMHESZUuJBhQ4cNA0SUOHEiAIsXMWbUuJH/Y0ePH0GGFDmSZMcAJ1GmVAmAZUuXL2HGlDmTZk2b\n",
       "N3Hm1CkzQE+fP4EGADCUaFGjR5EmVbqUaVOnT6FGRRqAalWrV6sC0LqVa1evX8GGFTuWbFmzZ9F2\n",
       "DbCWbVu3bQHElTuXbl27d/Hm1buXb1+/f+cGEDyYcGHDABAnVryYcWPHjyFHljyZcmXLjgNk1ryZ\n",
       "82YAn0GHFj2adGnTp1GnVr2adevRAWDHlj0bQG3bt3Hn1r2bd2/fv4EHFz6cdwDjx5EnDwCAeXPn\n",
       "z6FHlz6denXr17Fn1y49QHfv38EHADCefHnz59GnV7+efXv37+HHTx+Afn379+kD0L+ff3///wAB\n",
       "CBxIsKDBgwgTKlzIsKHDhwACSJxIseJEABgzatzIsaPHjyBDihxJsqTJjgFSqlzJUiWAlzBjypxJ\n",
       "s6bNmzhz6tzJs+fMAECDCh0aFIDRo0iTKl3KtKnTp1CjSp1KNWmAq1izatUKoKvXr2DDih1LtqzZ\n",
       "s2jTql37NYDbt3DjxgVAt67du3jz6t3Lt6/fv4ADC7YboLDhw4gTA1jMuLHjx5AjS55MubLly5gz\n",
       "Mw7AubPnz6ABiB5NurTp06hTq17NurXr17BHB5hNezYAAAFy696dG4Dv38CDCx9OvLjx48iTK1/O\n",
       "3HeA59CfA5geoLp16wCya9/Ovbv37+DDi/8fT768+fPbA6hfHwCAewAB4suXD6C+/fv48+vfz7+/\n",
       "f4AABA4kWNDgQYQJFS5kiDDAQ4gBAEykWNHiRYwZNW7k2NHjR5AhLwYAEADASZQpAQRgyRLAS5gx\n",
       "Zc6kWdPmTZw5de7k2TNmgAAAAgAgWpRoAKQAlAYIAMDpU6hRpU6lWtXqVaxZtW7lCjUAgABhAwAg\n",
       "W5ZsAAAB1K5VC8DtW7hx5c6lW9fuXbx59e7lCzdAAACBBQcOUNhwAACJFS9m3NjxY8iRJU+mXNny\n",
       "5cQBAgDgDCAAANChQwcIACDA6dMAVK9m3dr1a9ixZc+mXdv2bdwBdO8OACAAgAAAhAMIUBx1AIAA\n",
       "yQEsZ97c+XPo0aVPp17d+nXs1wNs597d+/ftAAAEAFDe/Hn06dWvZ9/e/Xv48eXPRx8AwH38AfTv\n",
       "598/AEAAAgcSLGjwIMKEChcybOjwIcSIEidSrGjxIsaMGjdy7OjxI8iQIkeSLGnyJMqUKleyHBkQ\n",
       "ADs=\n",
       "\">"
      ],
      "text/plain": [
       "<IPython.core.display.HTML object>"
      ]
     },
     "execution_count": 23,
     "metadata": {},
     "output_type": "execute_result"
    }
   ],
   "source": [
    "HTML(display_anim('src/foreground/out39structured_sparsity.gif'))"
   ]
  },
  {
   "cell_type": "code",
   "execution_count": 24,
   "metadata": {
    "collapsed": false
   },
   "outputs": [
    {
     "data": {
      "text/html": [
       "<img src=\"data:image/gif;base64,R0lGODdhoACAAIAAAAAAAP///ywAAAAAoACAAEAI/wABCBxIsKDBgwgTKlzIsKHDhxAjSpxIsaLF\n",
       "ixgzatwoMYDHjx4BiBxJsqTJkyhTqlzJsqXLlzBfBphJs2YAADhz6tzJs6fPn0CDCh1KtKjRnwGS\n",
       "Kl0KoKnTp1CjSp1KtarVq1izat1aNYDXr2DDAhhLtqzZs2jTql3Ltq3bt3Djqg1At67duwEA6N3L\n",
       "t6/fv4ADCx5MuLDhw4gFB1jMuHFjAJAjS55MubLly5gza97MubNnygFCix5NejSA06hTq17NurXr\n",
       "17Bjy55Nu/brALhz694dAIDv38CDCx9OvLjx48iTK1/OnHiA59CjS4cOoLr169iza9/Ovbv37+DD\n",
       "i/8fjz2A+fPo06sHwL69+/fw48ufT7++/fv48+tvH6B/AIAAAgQAUBBAAIQJEwJg2NDhQ4gRJU6k\n",
       "WNHiRYwZNU4MAMDjR48BAAAIEAAAgAAAVK5k2dLlS5gxZc6kWdPmTZwAAuwMACBAAAAAAgQAUDTA\n",
       "UaRJkwJg2tTpU6hRpU6lWtXqVaxZtW7l2tXrV7BhxY4lW9bsWbRp1a5lKzbAW7hxAwCgW9fuXbx5\n",
       "9e7l29fvX8CBBfsNUNjw4QAAFC9m3NjxY8iRJU+mXNnyZcyQA2zm3HkzANChRY8mXdr0adSpVa9m\n",
       "3do16gCxZc+mDcD2bdy5de/m3dv3b+DBhQ8n3jv/wHHkyZUjB9Dc+XPo0aVPp17d+nXs2bVvjx7A\n",
       "+3fw4QMAIF/e/Hn06dWvZ9/e/Xv48eWzD1Df/n38AQDs59/fP0AAAgcSLGjwIMKEChcybOjwocIA\n",
       "EidSrCgRAMaMGjdy7OjxI8iQIkeSLGmSY4CUKleyZAngJcyYMmfSrGnzJs6cOnfy7BkzANCgQQEE\n",
       "KGr0aFEASpcyber0KdSoUqdSrWr1KtalAQBw7eoVQICwYgGQLWv2LNq0ateybev2Ldy4ctkGAGD3\n",
       "rt0AevcC6Ov3L+DAggcTLmz4MOLEihczbuz4MeTIkidTrmz5MubMmjdz7uz5M+jQokeTLm36NOrU\n",
       "/5QDsG7tOgCA2LJn065t+zbu3Lp38+7t+/fuAMKHExcO4Djy5MqXM2/u/Dn06NKnU68uPQD27NoB\n",
       "cO/u/Tv48OLHky9v/jz69OrNB2jv3j2A+PLn069v/z7+/Pr38+/vHyAAgQMJFjR4MEBChQsTAnD4\n",
       "EGJEiRMpVrR4EWNGjRs5WgzwEWRIkABIljR5EmVKlStZtnT5EmZMmSwD1LR5EycAnTt59vT5E2hQ\n",
       "oUOJFjV6FGnQAEuZNnUaAEBUqVOpVrV6FWtWrVu5dvX69WoAsWPJlhULAG1atWvZtnX7Fm5cuXPp\n",
       "1rXrNkBevXv5BgDwF3BgwYMJFzZ8GHFixYsZN/8uHAByZMmTAVS2fBlzZs2bOXf2/Bl0aNGjNwcw\n",
       "fRp16gAAWLd2/Rp2bNmzade2fRt3bt2vA/T2/Rs4cADDiRc3fhx5cuXLmTd3/hx69OUBqFe3fh1A\n",
       "du3buXf3/h18ePHjyZc3fx58APXr2bcPAAB+fPnz6de3fx9/fv37+ff3DxCAwIECAxg8iDChQQAM\n",
       "Gzp8CDGixIkUK1q8iDGjxogBOnr8CNIjgJEkS5o8iTKlypUsW7p8CTOmyQA0a9q8eROAzp08e/r8\n",
       "CTSo0KFEixo9ipRngKVMmzoNACCA1AAAqlq9ijWr1q1cu3r9Cjas2LFWA5g9axaA2gBs27YFADf/\n",
       "rty5dOvavYs3r969fPv6vRsgAIDBgwMYPhwAgOLFjBs7fgw5suTJlCtbvoyZcQAAAQAEAAA6tOgA\n",
       "AAAECAAgterVrFu7fg07tuzZtGvbvv06gG4AvHvzDgA8eAAAxIsbP448ufLlzJs7fw49unTiAQBY\n",
       "BxAgAIDt3LkH+P4dgPjx5MubP48+vfr17Nu7fw+ffID59OkDCAAgf4D9+wH4BwhA4ECCBQ0eRJhQ\n",
       "4UKGDR0+hBhR4kSKFS1exJhR40aOHT1+BBlS5EiSJU2eRJlS5UqWLV2+hBlT5kyaNW3exJlTJ8kA\n",
       "PQMAABpU6FCiRY0eRZpU6VKmTZ0+DRBV6lQA/1WtXsWaVetWrl29fgUbVuzYsAHMnkUbAMBatm3d\n",
       "voUbV+5cunXt3sWbt24Avn398gUQWPBgwoUNH0acWPFixo0dP2YcQPJkygEAXMacWfNmzp09fwYd\n",
       "WvRo0qVFB0CdWnUAAK1dv4YdW/Zs2rVt38adW/du3AF8/wYOQPhw4sWNH0eeXPly5s2dP4fePMB0\n",
       "6tUBXMeeXft27t29fwcfXvx48uXDB0CfPj0A9u3dv4cfX/58+vXt38efX//9AP39AwwgcCCAggYP\n",
       "IkyocCHDhg4fQowocaLDABYvYrwIYCPHjh4/ggwpciTJkiZPokw5MgDLli5bAogpcybNmjZv4v/M\n",
       "qXMnz54+f+oMIHQoUaIAjiJNqnQp06ZOn0KNKnUq1apOA2DNqnUrgK5ev4INK3Ys2bJmz6JNq3Yt\n",
       "2QBu38KNC2Au3bp27+LNq3cv375+/wIOrDcA4cKGDwcAoHgx48aOH0OOLHky5cqWL2OGHGAz586e\n",
       "AwAILXo06dKmT6NOrXo169auX58OIHs27dqyAeDOrXs3796+fwMPLnw48eLGewdIrnw58+QAnkOP\n",
       "Ln069erWr2PPrn079+7UA4APL368eADmz6NPr349+/bu38OPL38+ffUB7uPPrx8A//7+AQIQOJBg\n",
       "QYMHESZUuJBhQ4cPIQaQOJEiRQAXMWbUuJH/Y0ePH0GGFDmSZEmPAVCmVLkSQEuXL2HGlDmTZk2b\n",
       "N3Hm1LlzZgCfP4EGDQCAaFGjR5EmVbqUaVOnT6FGlZo0QFWrV7FaBbCVa1evX8GGFTuWbFmzZ9Gm\n",
       "9RqAbVu3b90CkDuXbl27d/Hm1buXb1+/fwHTDTCYcGHDhwEkVryYcWPHjyFHljyZcmXLlx8H0LyZ\n",
       "c2fPmgEEADCadGnTp1GnVr2adWvXr2HHDjCbdm3bAHDn1r2bd2/fv4EHFz6ceHHjvwMkV76ceQAA\n",
       "z6FHlz6denXr17Fn176de/fqAcCHFz8+AADz59GnV7+efXv37+HHlz+fPvsA9/Hn138fQH///wAB\n",
       "CBxIsKDBgwgTKlzIsKHDhxABBJhIsaLFiQAyatzIsaPHjyBDihxJsqTJkx4DqFzJsqVLADBjypxJ\n",
       "s6bNmzhz6tzJs6fPmAGCCh1KVCiAo0iTKl3KtKnTp1CjSp1KtarSAFizat26FYDXr2DDih1LtqzZ\n",
       "s2jTql3LFmyAt3DjypULoK7du3jz6t3Lt6/fv4ADCx58N4Dhw4gTKwbAuLHjx5AjS55MubLly5gz\n",
       "a24coLPnz6BDAxhNurTp06hTq17NurXr17Bjkw5AuzZtAAAC6N7NWzeA38CDCx9OvLjx48iTK1/O\n",
       "vPnvANCjQwdAPYD169cBaN/Ovbv37+DDi/8fT768+fPouQdYzz4AgPcAAsifPx+A/fv48+vfz7+/\n",
       "f4AABA4kWNDgQYQJFS5k2NBgAIgRAwCgWNHiRYwZNW7k2NHjR5AhRWIMACAAAJQpVQII0LIlAJgx\n",
       "Zc6kWdPmTZw5de7k2dPnzAAAAgAgWrRogAAAlAYIAMDpU6hRpU6lWtXqVaxZtW7lCjUAALAAAgAg\n",
       "W5ZsAAAB1K5VC8DtW7hx5c6lW9fuXbx59e7lGzcAAMCBAQcgXDgAAMSJFS9m3NjxY8iRJU+mXNky\n",
       "4gAANGsOAMDz588BAgAIULo0ANSpVa9m3dr1a9ixZc+mXdt2AAC5AQQIAMD3b98BhAMAEMB1OADk\n",
       "yZUvZ97c+XPo0aVPp17dOoAA2bVv584dAIAAAMSPJ1/e/Hn06dWvZ9/e/Xv45QMAoF8/wH38+fUH\n",
       "ANDfP0AAAgcSLGjwIMKEChcybOjwIcSIEidSrGjxIsaMGjdy7OjxI8iQIkeSLGnyJMqUKley7BgQ\n",
       "ADs=\n",
       "\">"
      ],
      "text/plain": [
       "<IPython.core.display.HTML object>"
      ]
     },
     "execution_count": 24,
     "metadata": {},
     "output_type": "execute_result"
    }
   ],
   "source": [
    "HTML(display_anim('src/foreground/out39frpca.gif'))"
   ]
  },
  {
   "cell_type": "code",
   "execution_count": 26,
   "metadata": {
    "collapsed": false
   },
   "outputs": [
    {
     "data": {
      "text/html": [
       "<img src=\"data:image/gif;base64,R0lGODdhoACAAIAAAAAAAP///ywAAAAAoACAAEAI/wABCBxIsKDBgwgTKlzIsKHDhxAjSpxIsaLF\n",
       "ixgzatwoMYDHjx4BiBxJsqTJkyhTqlzJsqXLlzBfBphJs2YAADhz6tzJs6fPn0CDCh1KtKjRnwGS\n",
       "Kl0KoKnTp1CjSp1KtarVq1izat1aNYDXr2DDAhhLtqzZs2jTql3Ltq3bt3Djqg1At67duwEA6N3L\n",
       "t6/fv4ADCx5MuLDhw4gFB1jMuHFjAJAjS55MubLly5gza97MubNnygFCix5NejSA06hTq17NurXr\n",
       "17Bjy55Nu/brALhz694NoLfv38CDCx9OvLjx48iTK19OPIDz59CjPwdAvbr169iza9/Ovbv37+DD\n",
       "i/+/HqC8+fPo0QNYz769+/fw48ufT7++/fv487cPwD8AAIABAgAgCCDAQYQIASxk2NDhQ4gRJU6k\n",
       "WNHiRYwZHQbgCCAAAJAhQQYAACBAAAAAAgBg2dLlS5gxZc6kWdPmTZw5dQII0NPnT6BBhQIgWtTo\n",
       "UaRJlS5l2tTpU6hRpU6lWtXqVaxZtW7l2tXrV7BhxY4lqzXAWbRpAwBg29btW7hx5c6lW9fuXbx5\n",
       "9doN0Nfv3wAABA8mXNjwYcSJFS9m3NjxY8iIA0ymXHkyAMyZNW/m3NnzZ9ChRY8mXdo06ACpVa9m\n",
       "DcD1a9ixZc+mXdv2bdy5de/mXTvAb+DBhQMHUNz/+HHkyZUvZ97c+XPo0aVPTx7A+nXs2QMA4N7d\n",
       "+3fw4cWPJ1/e/Hn06dWTD9De/Xv4AQDMp1/f/n38+fXv59/fP0AAAgcSLGjwIMKECQMwbOjwIUMA\n",
       "EidSrGjxIsaMGjdy7OjxI8iLAUaSLGmyJICUKleybOnyJcyYMmfSrGnz5soAOnfuBBDgJ9CgAQAQ\n",
       "LWr0KNKkSpcyber0KdSoUo0GCADgKtasAbZyBeD1K9iwYseSLWv2LNq0ateyNRsAANy4cAPQrQvg\n",
       "Lt68evfy7ev3L+DAggcTLmz4MOLEihczbuz4MeTIkidTrmz5MubMmjdz7uz5M+jQokc7DmD6NOoA\n",
       "/wBWs27t+jXs2LJn065t+zbu3LYD8O7tOwCA4MKHEy9u/Djy5MqXM2/u/DnzANKnUwdg/Tr27Nq3\n",
       "c+/u/Tv48OLHkwcf4Dx69ADWs2/v/j38+PLn069v/z7+/PUD8O/vH2CAAAAIFjR4EGFChQsZNnT4\n",
       "EGJEiQwDVLR40SIAjRs5dvT4EWRIkSNJljR5EqXIACtZtnQJAGZMmTNp1rR5E2dOnTt59vR5M0BQ\n",
       "oUOJBgBwFGlSpUuZNnX6FGpUqVOpVm0aAGtWrVuxAvD6FWxYsWPJljV7Fm1atWvZkg3wFm5cuQEA\n",
       "1LV7F29evXv59vX7F3BgwYP3BjB8GHFiAIsZN/92/BhyZMmTKVe2fBlz5sgBOHf2/DkAANGjSZc2\n",
       "fRp1atWrWbd2/Rr26QCzade2TRtAbt27eff2/Rt4cOHDiRc3fjx4AOXLmTcH8Bx6dOnTqVe3fh17\n",
       "du3buXe3HgB8ePHjAwAwfx59evXr2bd3/x5+fPnz6bMPcB9/fv33AfT3DxCAwIEECxo8iDChwoUM\n",
       "Gzp8CBFAgIkUK1qkCCCjxo0cO3r8CDKkyJEkS5o8yTGAypUsW7oEADOmzJk0a9q8iTOnzp08e/qM\n",
       "GSCo0KFEAwAIgDQAgKVMmzp9CjWq1KlUq1q9ijUr0wBcu3IFADaA2LFjAZg9izat2rVs27p9Czf/\n",
       "rty5dNsGCAAgb94AfPsGAAA4sODBhAsbPow4seLFjBs7FhwgMoAAACpbvhwAAIAAAQB4/gw6tOjR\n",
       "pEubPo06terVrEkHeA0gtuzYAWrbDgAgt+7dvHv7/g08uPDhxIsbP547gPIAAAI4DwAgunQAAapX\n",
       "B4A9u/bt3Lt7/w4+vPjx5MubDwAggPr17AMAeP8+gHz5AOrbv48/v/79/Pv7BwhA4ECCBQ0eRJhQ\n",
       "4UKGDR0+hBhR4kSKFS1exJhR40aOHT1+BBlS5EiSJU2eRJlS5UqWLV2+hBlT5kyaNW3exJkTZACe\n",
       "AHz+BBpU6FCiRY0eRZpU6VKmTQM8hRoVwFSq/1WtXsWaVetWrl29fgUb9msAsmXNBgCQVu1atm3d\n",
       "voUbV+5cunXt3qUbQO9evgEA/AUcWPBgwoUNH0acWPFixo0VB4AcWTIAypUtX8acWfNmzp09fwYd\n",
       "WjToAKVNnw4AQPVq1q1dv4YdW/Zs2rVt38ZdO8Bu3r0B/AYeXPhw4sWNH0eeXPly5s2VB4AeXToA\n",
       "6tWtX8eeXft27t29fwcfXrz3AOXNmweQXv169u3dv4cfX/58+vXt36cfQP9+/voBAAQgcCDBggYP\n",
       "IkyocCHDhg4fQlQYYCLFihMBYMyocSPHjh4/ggwpciTJkiZDBkipcqVKAC5fwowpcybNmjZv4v/M\n",
       "qXMnz5sBfgINGhQA0aJGjyJNqnQp06ZOn0KNKnVpgKpWr2IFoHUr165ev4INK3Ys2bJmz6IFG2At\n",
       "27ZuAwCIK3cu3bp27+LNq3cv375+/+INIHgw4cIBACBOrHgx48aOH0OOLHky5cqWHQfIrHkz5wAA\n",
       "PoMOLXo06dKmT6NOrXo169alA8COLXs2bAC2b+POrXs3796+fwMPLnw48d0BjiNPrvw4gObOn0OP\n",
       "Ln069erWr2PPrn379ADev4MP/x0A+fLmz6NPr349+/bu38OPLz99gPr2798HoH8///7+AQIQOJBg\n",
       "QYMHESZUuJBhQ4cPCwaQOJEiRQAXMWbUuJH/Y0ePH0GGFDmSZEmPAVCmVLkSQEuXL2HGlDmTZk2b\n",
       "N3Hm1LlzZgCfP4EGDQCAaFGjR5EmVbqUaVOnT6FGlZo0QFWrV7FaBbCVa1evX8GGFTuWbFmzZ9Gm\n",
       "9RqAbVu3b90CkDuXbl27d/Hm1buXb1+/fwHXDTCYcGHDhgEkVryYcWPHjyFHljyZcmXLlx8H0LyZ\n",
       "c+fOAECHFj2adGnTp1GnVr2adWvXowPElj2bNgDbt3Hn1r2bd2/fv4EHFz6cuO8Ax5EnVw6AeXPn\n",
       "z6FHlz6denXr17Fn1y49QHfv38EHADCefHnz59GnV7+efXv37+HHTx+Afn379+kD0L+ff3///wAB\n",
       "CBxIsKDBgwgTKlzIsKHDhwACSJxIseJEABgzatzIsaPHjyBDihxJsqTJjgFSqlzJUiWAlzBjypxJ\n",
       "s6bNmzhz6tzJs+fMAECDCh0aFIDRo0iTKl3KtKnTp1CjSp1KNWmAq1izatUKoKvXr2DDih1LtqzZ\n",
       "s2jTql3rNYDbt3DjygVAt67du3jz6t3Lt6/fv4ADC7YboLDhw4gTA1jMuLHjx5AjS55MubLly5gz\n",
       "Mw7AubPnz6ABiB5NurTp06hTq17NurXr17BHB5hNezYAAAFy696dG4Dv38CDCx9OvLjx48iTK1/O\n",
       "3HeA59ADAJgOIID169cBaN/Ovbv37+DDi/8fT768+fPouQdYDyCAewDwAQSYT38+gPv48+vfz7+/\n",
       "f4AABA4kWNDgQYQJFS5k2NDhwAARJQYAUNHiRYwZNW7k2NHjR5AhRY7MGABAAAApVa4EEMClSwAx\n",
       "Zc6kWdPmTZw5de7k2dPnz5kBAgAIAMDo0aMBAgBgGiAAAKhRpU6lWtXqVaxZtW7l2tWr1AAAAgQA\n",
       "EADAWbRnAwAI0NYtALhx5c6lW9fuXbx59e7l29cv3QABAAwmPDjAYcQAFC9m3NjxY8iRJU+mXNny\n",
       "ZcyLAwQA0BlAAAChRYsOEABAAACpVa9m3dr1a9ixZc+mXdv27dUBdO8OACAAgAAAhAMIUBx1AIAA\n",
       "AAIAYN7c+XPo0aVPp17d+nXs2a8H4N7d+3fw3QEACADA/Hn06dWvZ9/e/Xv48eXPp58+AAD8+QEE\n",
       "4N/fP0AAAgcSLGjwIMKEChcybOjwIcSIEidSrGjxIsaMGjdy7OjxI8iQIkeSLGnyJMqUKleyRBkQ\n",
       "ADs=\n",
       "\">"
      ],
      "text/plain": [
       "<IPython.core.display.HTML object>"
      ]
     },
     "execution_count": 26,
     "metadata": {},
     "output_type": "execute_result"
    }
   ],
   "source": [
    "HTML(display_anim('src/foreground/out39l1.gif'))"
   ]
  },
  {
   "cell_type": "code",
   "execution_count": 7,
   "metadata": {
    "collapsed": false
   },
   "outputs": [],
   "source": [
    "from __future__ import print_function\n",
    "import sys\n",
    "import os\n",
    "\n",
    "project_path = './'\n",
    "video_name = ''\n",
    "sys.path.append(project_path + 'src/')"
   ]
  },
  {
   "cell_type": "code",
   "execution_count": 4,
   "metadata": {
    "collapsed": true
   },
   "outputs": [],
   "source": [
    "import PIL.Image\n",
    "import scipy\n",
    "import scipy.sparse as sp\n",
    "import scipy.io\n",
    "import numpy as np\n",
    "import numpy.linalg as la\n",
    "import numpy.random as rn\n",
    "import matplotlib.pyplot as plt\n",
    "\n",
    "import frames as f\n",
    "import graph as g\n",
    "import motion as m\n",
    "import group\n",
    "from alm_lsd import inexact_alm_lsd, inexact_alm_bs\n",
    "\n",
    "from FRPCA_GD import FRPCA\n",
    "import cPickle as pickle\n",
    "import os.path"
   ]
  },
  {
   "cell_type": "code",
   "execution_count": 5,
   "metadata": {
    "collapsed": true
   },
   "outputs": [],
   "source": [
    "# In order to read alternative data sources\n",
    "def read_images(data_name):\n",
    "    import glob\n",
    "    import re\n",
    "    \n",
    "    def numericalSort(value):\n",
    "        _numbers = re.compile(r'(\\d+)')\n",
    "        parts = _numbers.split(value)\n",
    "        parts[1::2] = map(int, parts[1::2])\n",
    "        return parts\n",
    "\n",
    "    frame_path = project_path + 'data/' + data_name + '/'\n",
    "    frames = []\n",
    "    file_list = glob.glob(frame_path + \"*.jpg\")\n",
    "    for file_names in sorted(file_list, key=numericalSort):\n",
    "        image = PIL.Image.open(file_names)\n",
    "        frame = np.asarray(image)\n",
    "        frames.append(frame)\n",
    "        \n",
    "    return [0, len(frames)], np.array(frames)"
   ]
  },
  {
   "cell_type": "code",
   "execution_count": null,
   "metadata": {
    "collapsed": true
   },
   "outputs": [],
   "source": [
    "def first_pass(frames_D, original_mean, frame_dimensions, downsampled_frame_dimensions, num_frames, norm_choice):\n",
    "    if norm_choice == 'l1':\n",
    "        print ('L1')\n",
    "        background_L, foreground_S, err = inexact_alm_lsd(frames_D, None, 'l1')\n",
    "        dims = downsampled_frame_dimensions\n",
    "    elif norm_choice == 'structured_sparsity':\n",
    "        print ('Structured Sparsity')\n",
    "        batch_dimensions = [3, 3]\n",
    "        graph = g.build_graph(downsampled_frame_dimensions, batch_dimensions)\n",
    "        background_L, foreground_S, err = inexact_alm_lsd(frames_D, graph, 'structured_sparsity')\n",
    "        dims = downsampled_frame_dimensions\n",
    "    elif norm_choice == 'frpca':\n",
    "        print ('FRPCA')\n",
    "        background_L, foreground_S, err = FRPCA(frames_D, alpha = .3, r=1)\n",
    "        dims = frame_dimensions\n",
    "    else:\n",
    "        raise ValueError('norm_choice is not valid.')\n",
    "\n",
    "    # Masking first-RPCA foreground & Upsampling\n",
    "    masked_S = f.foreground_mask(np.abs(foreground_S), frames_D, background_L)\n",
    "    fg_frames = f.matrix_to_frames(masked_S, num_frames, dims)\n",
    "    upsampled_fg = f.resize_frames(fg_frames, frame_dimensions)\n",
    "    upsampled_fg = np.int32(upsampled_fg > 128) * 255\n",
    "\n",
    "    # print\n",
    "    bg_bin = f.restore_background(f.matrix_to_frames(background_L, num_frames,\n",
    "                                                     dims), original_mean)\n",
    "    bg_images = [PIL.Image.fromarray(frame) for frame in bg_bin]\n",
    "    fg_images = [PIL.Image.fromarray(frame) for frame in upsampled_fg]\n",
    "    for i in range(len(fg_images)):\n",
    "        fg_images[i].save(project_path + \"src/foreground_first_pass/out\" + str(i) + norm_choice + \".gif\")\n",
    "        bg_images[i].save(project_path + \"src/background_first_pass/out\" + str(i) + norm_choice + \".gif\")\n",
    "    return upsampled_fg"
   ]
  },
  {
   "cell_type": "code",
   "execution_count": 8,
   "metadata": {
    "collapsed": false
   },
   "outputs": [
    {
     "name": "stdout",
     "output_type": "stream",
     "text": [
      "FRPCA\n",
      "(0.23415448819996632, 'error at iteration', 0)\n",
      "(0.19524612832485694, 'error at iteration', 1)\n",
      "(0.16697538310037113, 'error at iteration', 2)\n",
      "(0.14701383229376222, 'error at iteration', 3)\n",
      "(0.13263822022441052, 'error at iteration', 4)\n",
      "(0.12174301093999881, 'error at iteration', 5)\n",
      "(0.11324351295998236, 'error at iteration', 6)\n",
      "(0.10614800659334202, 'error at iteration', 7)\n",
      "(0.10029136874760981, 'error at iteration', 8)\n",
      "(0.095189794329510843, 'error at iteration', 9)\n",
      "(0.09082302195140006, 'error at iteration', 10)\n",
      "(0.087009230905404078, 'error at iteration', 11)\n",
      "(0.083629791478115417, 'error at iteration', 12)\n",
      "(0.080474225122772261, 'error at iteration', 13)\n",
      "(0.077735588849327061, 'error at iteration', 14)\n",
      "(0.075259685695433468, 'error at iteration', 15)\n",
      "(0.073012046303141134, 'error at iteration', 16)\n",
      "(0.071012520412069444, 'error at iteration', 17)\n",
      "(0.069162949709507038, 'error at iteration', 18)\n",
      "(0.067602157090530759, 'error at iteration', 19)\n",
      "(0.066157846117404343, 'error at iteration', 20)\n",
      "(0.064862246127039655, 'error at iteration', 21)\n",
      "(0.063724680974241818, 'error at iteration', 22)\n",
      "(0.062720170846972928, 'error at iteration', 23)\n",
      "(0.061833857739731282, 'error at iteration', 24)\n",
      "(0.061043793489531643, 'error at iteration', 25)\n",
      "(0.060341709954341689, 'error at iteration', 26)\n",
      "(0.059731870443131788, 'error at iteration', 27)\n",
      "(0.059195248145257756, 'error at iteration', 28)\n",
      "(0.058787112615607581, 'error at iteration', 29)\n",
      "0.176475\n"
     ]
    },
    {
     "ename": "IOError",
     "evalue": "[Errno 2] No such file or directory: '/home/dany/Documents/classes/optimization/project/foreground/out0.gif'",
     "output_type": "error",
     "traceback": [
      "\u001b[0;31m---------------------------------------------------------------------------\u001b[0m",
      "\u001b[0;31mIOError\u001b[0m                                   Traceback (most recent call last)",
      "\u001b[0;32m<ipython-input-8-851f63c621b6>\u001b[0m in \u001b[0;36m<module>\u001b[0;34m()\u001b[0m\n\u001b[1;32m     37\u001b[0m \u001b[0mfg_images\u001b[0m \u001b[0;34m=\u001b[0m \u001b[0;34m[\u001b[0m\u001b[0mPIL\u001b[0m\u001b[0;34m.\u001b[0m\u001b[0mImage\u001b[0m\u001b[0;34m.\u001b[0m\u001b[0mfromarray\u001b[0m\u001b[0;34m(\u001b[0m\u001b[0mframe\u001b[0m\u001b[0;34m)\u001b[0m \u001b[0;32mfor\u001b[0m \u001b[0mframe\u001b[0m \u001b[0;32min\u001b[0m \u001b[0mupsampled_fg\u001b[0m\u001b[0;34m]\u001b[0m\u001b[0;34m\u001b[0m\u001b[0m\n\u001b[1;32m     38\u001b[0m \u001b[0;32mfor\u001b[0m \u001b[0mi\u001b[0m \u001b[0;32min\u001b[0m \u001b[0mrange\u001b[0m\u001b[0;34m(\u001b[0m\u001b[0mlen\u001b[0m\u001b[0;34m(\u001b[0m\u001b[0mfg_images\u001b[0m\u001b[0;34m)\u001b[0m\u001b[0;34m)\u001b[0m\u001b[0;34m:\u001b[0m\u001b[0;34m\u001b[0m\u001b[0m\n\u001b[0;32m---> 39\u001b[0;31m     \u001b[0mfg_images\u001b[0m\u001b[0;34m[\u001b[0m\u001b[0mi\u001b[0m\u001b[0;34m]\u001b[0m\u001b[0;34m.\u001b[0m\u001b[0msave\u001b[0m\u001b[0;34m(\u001b[0m\u001b[0mproject_path\u001b[0m \u001b[0;34m+\u001b[0m \u001b[0;34m\"foreground/out\"\u001b[0m \u001b[0;34m+\u001b[0m \u001b[0mstr\u001b[0m\u001b[0;34m(\u001b[0m\u001b[0mi\u001b[0m\u001b[0;34m)\u001b[0m \u001b[0;34m+\u001b[0m \u001b[0;34m\".gif\"\u001b[0m\u001b[0;34m)\u001b[0m\u001b[0;34m\u001b[0m\u001b[0m\n\u001b[0m\u001b[1;32m     40\u001b[0m     \u001b[0mbg_images\u001b[0m\u001b[0;34m[\u001b[0m\u001b[0mi\u001b[0m\u001b[0;34m]\u001b[0m\u001b[0;34m.\u001b[0m\u001b[0msave\u001b[0m\u001b[0;34m(\u001b[0m\u001b[0mproject_path\u001b[0m \u001b[0;34m+\u001b[0m \u001b[0;34m\"background/out\"\u001b[0m \u001b[0;34m+\u001b[0m \u001b[0mstr\u001b[0m\u001b[0;34m(\u001b[0m\u001b[0mi\u001b[0m\u001b[0;34m)\u001b[0m \u001b[0;34m+\u001b[0m \u001b[0;34m\".gif\"\u001b[0m\u001b[0;34m)\u001b[0m\u001b[0;34m\u001b[0m\u001b[0m\n\u001b[1;32m     41\u001b[0m \u001b[0;32mreturn\u001b[0m\u001b[0;34m\u001b[0m\u001b[0m\n",
      "\u001b[0;32m/usr/lib/python2.7/dist-packages/PIL/Image.pyc\u001b[0m in \u001b[0;36msave\u001b[0;34m(self, fp, format, **params)\u001b[0m\n\u001b[1;32m   1677\u001b[0m \u001b[0;34m\u001b[0m\u001b[0m\n\u001b[1;32m   1678\u001b[0m         \u001b[0;32mif\u001b[0m \u001b[0misPath\u001b[0m\u001b[0;34m(\u001b[0m\u001b[0mfp\u001b[0m\u001b[0;34m)\u001b[0m\u001b[0;34m:\u001b[0m\u001b[0;34m\u001b[0m\u001b[0m\n\u001b[0;32m-> 1679\u001b[0;31m             \u001b[0mfp\u001b[0m \u001b[0;34m=\u001b[0m \u001b[0mbuiltins\u001b[0m\u001b[0;34m.\u001b[0m\u001b[0mopen\u001b[0m\u001b[0;34m(\u001b[0m\u001b[0mfp\u001b[0m\u001b[0;34m,\u001b[0m \u001b[0;34m\"wb\"\u001b[0m\u001b[0;34m)\u001b[0m\u001b[0;34m\u001b[0m\u001b[0m\n\u001b[0m\u001b[1;32m   1680\u001b[0m             \u001b[0mclose\u001b[0m \u001b[0;34m=\u001b[0m \u001b[0;36m1\u001b[0m\u001b[0;34m\u001b[0m\u001b[0m\n\u001b[1;32m   1681\u001b[0m         \u001b[0;32melse\u001b[0m\u001b[0;34m:\u001b[0m\u001b[0;34m\u001b[0m\u001b[0m\n",
      "\u001b[0;31mIOError\u001b[0m: [Errno 2] No such file or directory: '/home/dany/Documents/classes/optimization/project/foreground/out0.gif'"
     ]
    }
   ],
   "source": [
    "frame_index = [0, 48]\n",
    "video_data_path = project_path + 'LSD/data/WaterSurface.mat'\n",
    "all_frames = scipy.io.loadmat(video_data_path)['ImData']\n",
    "start_frame_index = frame_index[0]\n",
    "end_frame_index = frame_index[1]\n",
    "frames_to_process = np.rollaxis(all_frames[:, :, start_frame_index:end_frame_index], 2)\n",
    "\n",
    "if video_name is not '':\n",
    "    frame_index, frames_to_process = read_images(video_name)\n",
    "frame_dimensions = frames_to_process.shape[1:]\n",
    "\n",
    "downsampling_ratio = 1.0 / 1.0\n",
    "downsampled_frames = f.resize_frames(frames_to_process, downsampling_ratio)\n",
    "downsampled_frame_dimensions = downsampled_frames.shape[1:]\n",
    "\n",
    "num_frames = downsampled_frames.shape[0]\n",
    "normalized_frames, original_mean = f.normalize_and_center_frames(downsampled_frames)\n",
    "\n",
    "frames_D = f.frames_to_matrix(normalized_frames, num_frames, downsampled_frame_dimensions)\n",
    "\n",
    "print ('---Identifying Trajectories---')\n",
    "if os.path.isfile('save.p'):\n",
    "    trajectories = pickle.load(open( \"save.p\", \"rb\" ))\n",
    "else:\n",
    "    # find trajectory\n",
    "    optical_flows = m.calc_forward_backward_flow(frames_to_process)\n",
    "    trajectories = m.calc_trajectories(optical_flows[0], optical_flows[1], frame_dimensions, 5)\n",
    "    pickle.dump(trajectories, open( \"save.p\", \"wb\" ))\n",
    "\n",
    "for norm_choice in ['l1', 'structured_sparsity', 'frpca']:\n",
    "    upsampled_fg = first_pass(frames_D, original_mean, frame_dimensions, downsampled_frame_dimensions, num_frames, norm_choice)\n",
    "\n",
    "    print ('---Calculating Group Regularization Parameters---')\n",
    "    # identify ground and compute lambda\n",
    "    video_data_dimensions = [num_frames] + list(frame_dimensions)\n",
    "    groups_info = group.find_groups(upsampled_fg, num_frames, upsampled_fg.shape[1:], min_size=50)\n",
    "    m.set_groups_saliencies(groups_info, trajectories, video_data_dimensions, 5)\n",
    "    m.set_regularization_lambdas(groups_info, video_data_dimensions)\n",
    "\n",
    "    print ('---Group Sparse RPCA---')\n",
    "    # group sparse RPCA\n",
    "    normalized_frames, original_mean = f.normalize_and_center_frames(frames_to_process)\n",
    "    frames_D = f.frames_to_matrix(normalized_frames, num_frames, frame_dimensions)\n",
    "    final_L, final_S, err = inexact_alm_bs(frames_D, groups_info)\n",
    "\n",
    "    # finalize S, L\n",
    "    final_bg = f.restore_background(f.matrix_to_frames(final_L, num_frames, frame_dimensions), original_mean)\n",
    "    masked_fg = f.foreground_mask(np.abs(final_S), frames_D, final_L)\n",
    "    final_fg = f.matrix_to_frames(masked_fg, num_frames, frame_dimensions)\n",
    "\n",
    "    # print\n",
    "    fg_images = [PIL.Image.fromarray(frame) for frame in final_fg]\n",
    "    bg_images = [PIL.Image.fromarray(frame) for frame in final_bg]\n",
    "\n",
    "    for i in range(len(fg_images)):\n",
    "        fg_images[i].save(project_path + \"src/foreground/out\" + str(i) + norm_choice + \".gif\")\n",
    "        bg_images[i].save(project_path + \"src/background/out\" + str(i) + norm_choice + \".gif\")\n",
    "\n",
    "    bg_images[0].save(project_path + norm_choice + \"bg_out.gif\", save_all=True, append_images=bg_images[1:])\n",
    "    fg_images[0].save(project_path + norm_choice + \"fg_out.gif\", save_all=True, append_images=fg_images[1:])"
   ]
  }
 ],
 "metadata": {
  "kernelspec": {
   "display_name": "Python 2",
   "language": "python",
   "name": "python2"
  },
  "language_info": {
   "codemirror_mode": {
    "name": "ipython",
    "version": 2
   },
   "file_extension": ".py",
   "mimetype": "text/x-python",
   "name": "python",
   "nbconvert_exporter": "python",
   "pygments_lexer": "ipython2",
   "version": "2.7.9"
  }
 },
 "nbformat": 4,
 "nbformat_minor": 2
}
